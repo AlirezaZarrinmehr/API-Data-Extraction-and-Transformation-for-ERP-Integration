{
  "nbformat": 4,
  "nbformat_minor": 0,
  "metadata": {
    "colab": {
      "provenance": [],
      "collapsed_sections": [
        "l7thzrw44IfZ",
        "j4oAT3REwz6W",
        "L762k3faxAhA",
        "Z7RFEeLlxgJ0",
        "OIPbZ2TBxvrI",
        "nnNNc1-Ux1VJ",
        "5ddsvbowx4ol",
        "4y64pfaOyJk7",
        "QTcu9_OoylFx",
        "_n28QBsdzw9R",
        "094ZhwtN05Id",
        "WGJLDz8Y1v0j",
        "zTxJFPHK18nq",
        "yDcJHaS92oz6",
        "gksC1O2Z6WXI",
        "xNn8tMWVl2m8"
      ],
      "authorship_tag": "ABX9TyNnMugxTJFbuEgmK6d88ovq"
    },
    "kernelspec": {
      "name": "python3",
      "display_name": "Python 3"
    },
    "language_info": {
      "name": "python"
    }
  },
  "cells": [
    {
      "cell_type": "markdown",
      "source": [
        "#Comparative Analysis and Visualization of AI Scholarly Publications\n",
        "\n"
      ],
      "metadata": {
        "id": "RtTT2F-0Yr-M"
      }
    },
    {
      "cell_type": "markdown",
      "source": [
        "##Introduction"
      ],
      "metadata": {
        "id": "VHqWTktBWocs"
      }
    },
    {
      "cell_type": "markdown",
      "source": [
        "The goal of this project is to meticulously analyze and understand the global trends and patterns in the field of artificial intelligence (AI), an area that is increasingly at the forefront of technological advancements. By recognizing the growing need for detailed insights into AI-related research and applications, our project has been meticulously designed to provide an in-depth examination of AI-related data. The analysis is split into two crucial components: SQL and Python, each serving a unique purpose in achieving the objectives of the project.\n",
        "\n",
        "SQL Part:\n",
        "The SQL section focuses on creating a well-structured database and conducting a comprehensive investigation into AI publications. By creating specific tables, we can organize general publication information and AI-related details separately. The aim here is not only to collect and organize the data but also to ensure its quality and integrity. Furthermore, an in-depth analysis of the contributions of Chinese authors in AI publications adds a geographical dimension to our exploration, helping us understand China's role in the global AI landscape.\n",
        "\n",
        "Python Part:\n",
        "Shifting from the realm of publications to practical applications, the Python part of the project dives into a synthetic dataset containing scores from an AI-related test conducted by researchers across five countries. Through mathematical computations, we derive insightful statistics, summarizing the test scores both numerically and visually. The use of histograms and heatmaps helps in presenting a clear picture of the average performance of the participating countries.\n",
        "\n",
        "Together, the SQL and Python segments form a multifaceted analysis of AI-related data. By employing a combination of database management, statistical calculations, and data visualization, the project aims to shed light on various aspects of the rapidly evolving field of AI. The insights gained from this study will contribute to our understanding of global participation in AI research and innovation, facilitating further advancements and collaborations."
      ],
      "metadata": {
        "id": "H9aTtxUIWu07"
      }
    },
    {
      "cell_type": "markdown",
      "source": [
        "##Libraries and Settings"
      ],
      "metadata": {
        "id": "l7thzrw44IfZ"
      }
    },
    {
      "cell_type": "code",
      "source": [
        "import sqlite3\n",
        "import pandas as pd\n",
        "!pip install gdown\n",
        "import gdown\n",
        "import seaborn as sns\n",
        "import matplotlib.pyplot as plt"
      ],
      "metadata": {
        "id": "GzM6D2da4Ite",
        "colab": {
          "base_uri": "https://localhost:8080/"
        },
        "outputId": "2e1c6070-6d12-4279-9eec-571f00e48532"
      },
      "execution_count": null,
      "outputs": [
        {
          "output_type": "stream",
          "name": "stdout",
          "text": [
            "Requirement already satisfied: gdown in /usr/local/lib/python3.10/dist-packages (4.6.6)\n",
            "Requirement already satisfied: filelock in /usr/local/lib/python3.10/dist-packages (from gdown) (3.12.2)\n",
            "Requirement already satisfied: requests[socks] in /usr/local/lib/python3.10/dist-packages (from gdown) (2.31.0)\n",
            "Requirement already satisfied: six in /usr/local/lib/python3.10/dist-packages (from gdown) (1.16.0)\n",
            "Requirement already satisfied: tqdm in /usr/local/lib/python3.10/dist-packages (from gdown) (4.66.1)\n",
            "Requirement already satisfied: beautifulsoup4 in /usr/local/lib/python3.10/dist-packages (from gdown) (4.11.2)\n",
            "Requirement already satisfied: soupsieve>1.2 in /usr/local/lib/python3.10/dist-packages (from beautifulsoup4->gdown) (2.4.1)\n",
            "Requirement already satisfied: charset-normalizer<4,>=2 in /usr/local/lib/python3.10/dist-packages (from requests[socks]->gdown) (3.2.0)\n",
            "Requirement already satisfied: idna<4,>=2.5 in /usr/local/lib/python3.10/dist-packages (from requests[socks]->gdown) (3.4)\n",
            "Requirement already satisfied: urllib3<3,>=1.21.1 in /usr/local/lib/python3.10/dist-packages (from requests[socks]->gdown) (2.0.4)\n",
            "Requirement already satisfied: certifi>=2017.4.17 in /usr/local/lib/python3.10/dist-packages (from requests[socks]->gdown) (2023.7.22)\n",
            "Requirement already satisfied: PySocks!=1.5.7,>=1.5.6 in /usr/local/lib/python3.10/dist-packages (from requests[socks]->gdown) (1.7.1)\n"
          ]
        }
      ]
    },
    {
      "cell_type": "markdown",
      "source": [
        "##SQL"
      ],
      "metadata": {
        "id": "XD6HAqZVwmpX"
      }
    },
    {
      "cell_type": "markdown",
      "source": [
        "####The first table, xxxx_publications_corpus, has one row for every publication in the dataset."
      ],
      "metadata": {
        "id": "j4oAT3REwz6W"
      }
    },
    {
      "cell_type": "code",
      "source": [
        "# Create the table structure\n",
        "\n",
        "conn = sqlite3.connect('xxxx_publications_corpus.db')\n",
        "cur = conn.cursor()\n",
        "cur.execute('''\n",
        "    DROP TABLE IF EXISTS xxxx_publications_corpus\n",
        "''')\n",
        "cur.execute('''\n",
        "CREATE TABLE xxxx_publications_corpus (\n",
        "    id TEXT PRIMARY KEY,\n",
        "    year INTEGER,\n",
        "    title TEXT,\n",
        "    abstract TEXT,\n",
        "    concepts TEXT);\n",
        "''')\n",
        "\n",
        "# Prepare data for insertion\n",
        "data = [\n",
        "    ('pub.1031529730', 1967, 'Temporal Lobe Epilepsy: A…', 'Temporal lobe epilepsy an…', 'patients;geniculate body;…'),\n",
        "    ('pub.1067445552', 2016, 'A fingerprint-based hybri…', '', 'fingerprints…'),\n",
        "    ('pub.1019474067', 2017, 'Invasive crayfish impacts…', 'Assessing the impacts of …', 'large chub;different life…'),\n",
        "    ('pub.1121166619', 1995, 'An outline of the tectoni…', '', 'tectonic evolution;evolut…'),\n",
        "    ('pub.1098674472', 1999, 'Model predictive control:…', '', 'predictive control;challe…'),\n",
        "    ('pub.1114794884', 2014, 'The Effects of Substrate …', 'La-doped lead zirconate t…', 'properties;fabrication;pl…'),\n",
        "    ('pub.1031540560', 1932, 'La Tuberculose au Danemar…', '', ''),\n",
        "]\n",
        "\n",
        "# Insert the data into our table\n",
        "cur.executemany('''\n",
        "    INSERT INTO xxxx_publications_corpus (id, year, title, abstract, concepts)\n",
        "    VALUES (?, ?, ?, ?, ?);\n",
        "''', data)\n",
        "\n",
        "# Commit changes and close connection\n",
        "conn.commit()\n",
        "cur.execute(\"SELECT * FROM xxxx_publications_corpus\")\n",
        "print(cur.fetchall())\n",
        "conn.close()"
      ],
      "metadata": {
        "colab": {
          "base_uri": "https://localhost:8080/"
        },
        "id": "qDRBJDGPoHGb",
        "outputId": "eb498335-a5ef-4496-ce90-36aa1db13bb4"
      },
      "execution_count": null,
      "outputs": [
        {
          "output_type": "stream",
          "name": "stdout",
          "text": [
            "[('pub.1031529730', 1967, 'Temporal Lobe Epilepsy: A…', 'Temporal lobe epilepsy an…', 'patients;geniculate body;…'), ('pub.1067445552', 2016, 'A fingerprint-based hybri…', '', 'fingerprints…'), ('pub.1019474067', 2017, 'Invasive crayfish impacts…', 'Assessing the impacts of …', 'large chub;different life…'), ('pub.1121166619', 1995, 'An outline of the tectoni…', '', 'tectonic evolution;evolut…'), ('pub.1098674472', 1999, 'Model predictive control:…', '', 'predictive control;challe…'), ('pub.1114794884', 2014, 'The Effects of Substrate …', 'La-doped lead zirconate t…', 'properties;fabrication;pl…'), ('pub.1031540560', 1932, 'La Tuberculose au Danemar…', '', '')]\n"
          ]
        }
      ]
    },
    {
      "cell_type": "markdown",
      "source": [
        "####The second table, xxxx_pred_ai_publications, contains the organizational affiliations of authors of publications from the first table that are related to artificial intelligence (AI). In this table, a single publication will have a unique row for every affiliation disclosed by the authors."
      ],
      "metadata": {
        "id": "L762k3faxAhA"
      }
    },
    {
      "cell_type": "code",
      "source": [
        "# Create the table structure\n",
        "\n",
        "conn = sqlite3.connect('xxxx_publications_corpus.db')\n",
        "cur = conn.cursor()\n",
        "cur.execute('''\n",
        "    DROP TABLE IF EXISTS xxxx_pred_ai_publications\n",
        "''')\n",
        "cur.execute('''\n",
        "    CREATE TABLE xxxx_pred_ai_publications (\n",
        "        id TEXT,\n",
        "        year INTEGER,\n",
        "        organization TEXT,\n",
        "        country_code TEXT,\n",
        "        org_type TEXT,\n",
        "        times_cited INTEGER,\n",
        "        pred_subjects TEXT\n",
        "    )\n",
        "''')\n",
        "\n",
        "# Prepare data for insertion\n",
        "data = [\n",
        "    ('pub.1031529730', 2017, 'University of Gdańsk', 'PL', 'Education', 1, 'machine learning'),\n",
        "    ('pub.1067445552', 2017, 'Gdynia Maritime University', 'PL', 'Education', 1, 'machine learning'),\n",
        "    ('pub.1000010975', 2017, 'University of Leeds', 'GB', 'Education', 3, 'nlp'),\n",
        "    ('pub.1000012991', 2017, 'University of East Anglia', 'GB', 'Education', 0, 'machine learning'),\n",
        "    ('pub.1000014064', 2017, 'Institute of Software', 'CN', 'Facility', 5, 'computer vision'),\n",
        "    ('pub.1000014064', 2017, 'Shijiazhuang Tiedao University', 'CN', 'Education', 5, 'computer vision'),\n",
        "    ('pub.1000014064', 2017, 'Hebei Academy of Sciences', 'CN', 'Education', 5, 'computer vision'),\n",
        "    ('pub.1000014772', 2017, 'Oregon Health & Science University', 'US', 'Education', 1, 'other ai'),\n",
        "    ('pub.1019474067', 2017, 'Brown University', 'US', 'Education', 1, 'other ai'),\n",
        "    ('pub.1000014772', 2017, 'Johns Hopkins University', 'US', 'Education', 1, 'other ai'),\n",
        "    ('pub.1000014772', 2017, 'Portland VA Medical Center', 'US', 'Healthcare', 1, 'other ai'),\n",
        "    ('pub.1000014772', 2017, 'Wayne State University', 'US', 'Education', 1, 'other ai'),\n",
        "    ('pub.1000021494', 2017, 'Leibniz Institute for the Social Sciences', 'DE', 'Facility', 8, 'nlp'),\n",
        "    ('pub.1121166619', 2017, 'Cairo University', 'EG', 'Education', 9, 'machine learning'),\n",
        "    ('pub.1000036084', 2017, 'Osaka Prefecture University', 'JP', 'Education', 1, 'nlp'),\n",
        "    ('pub.1031540560', 2017, 'San Diego State University', 'US', 'Education', 10, 'computer vision'),\n",
        "    ('pub.1000041690', 2017, 'University of Szeged', 'HU', 'Education', 1, 'other ai'),\n",
        "    ('pub.1000045282', 2017, 'British Geological Survey', 'GB', 'Government', 0, 'computer vision'),\n",
        "    ('pub.1098674472', 2017, 'University of Miami', 'US', 'Education', 0, 'computer vision'),\n",
        "    ('pub.1000051276', 2017, 'National Tsing Hua University', 'TW', 'Education', 2, 'other ai'),\n",
        "    ('pub.1000052818', 2017, 'Democritus University of Thrace', 'GR', 'Education', 5, 'other ai'),\n",
        "    ('pub.1000053620', 2017, 'Dublin City University', 'IE', 'Education', 1, 'nlp'),\n",
        "    ('pub.1000053620', 2017, 'Huawei Technologies (China)', 'CN', 'Company', 1, 'nlp'),\n",
        "    ('pub.1114794884', 2017, 'University of Stirling', 'GB', 'Education', 1, 'nlp'),\n",
        "    ('pub.1000054035', 2017, 'Universidad Autónoma del Estado de México', 'MX', 'Education', 17, 'machine learning'),\n",
        "    ('pub.1000054035', 2017, 'Instituto Tecnologico de Orizaba', 'MX', 'Education', 17, 'machine learning'),\n",
        "]\n",
        "\n",
        "# Insert the data into our table\n",
        "cur.executemany('''\n",
        "    INSERT INTO xxxx_pred_ai_publications (id, year, organization, country_code, org_type, times_cited, pred_subjects)\n",
        "    VALUES (?, ?, ?, ?, ?, ?, ?)\n",
        "''', data)\n",
        "\n",
        "#Commit changes and close connection\n",
        "conn.commit()\n",
        "cur.execute(\"SELECT * FROM xxxx_publications_corpus\")\n",
        "print(cur.fetchall())\n",
        "conn.close()"
      ],
      "metadata": {
        "colab": {
          "base_uri": "https://localhost:8080/"
        },
        "id": "InlzLvp9pQEw",
        "outputId": "27417487-e261-4832-e1c0-60c210ee5921"
      },
      "execution_count": null,
      "outputs": [
        {
          "output_type": "stream",
          "name": "stdout",
          "text": [
            "[('pub.1031529730', 1967, 'Temporal Lobe Epilepsy: A…', 'Temporal lobe epilepsy an…', 'patients;geniculate body;…'), ('pub.1067445552', 2016, 'A fingerprint-based hybri…', '', 'fingerprints…'), ('pub.1019474067', 2017, 'Invasive crayfish impacts…', 'Assessing the impacts of …', 'large chub;different life…'), ('pub.1121166619', 1995, 'An outline of the tectoni…', '', 'tectonic evolution;evolut…'), ('pub.1098674472', 1999, 'Model predictive control:…', '', 'predictive control;challe…'), ('pub.1114794884', 2014, 'The Effects of Substrate …', 'La-doped lead zirconate t…', 'properties;fabrication;pl…'), ('pub.1031540560', 1932, 'La Tuberculose au Danemar…', '', '')]\n"
          ]
        }
      ]
    },
    {
      "cell_type": "markdown",
      "source": [
        "###Count Papers"
      ],
      "metadata": {
        "id": "Z7RFEeLlxgJ0"
      }
    },
    {
      "cell_type": "markdown",
      "source": [
        "####Count the total number of unique publications in the database"
      ],
      "metadata": {
        "id": "OIPbZ2TBxvrI"
      }
    },
    {
      "cell_type": "code",
      "source": [
        "conn = sqlite3.connect('xxxx_publications_corpus.db')\n",
        "cur = conn.cursor()\n",
        "cur.execute(\n",
        "    \"SELECT COUNT(DISTINCT id) AS total_papers FROM xxxx_publications_corpus\"\n",
        "    )\n",
        "display(pd.DataFrame(cur.fetchall()))\n",
        "conn.close()"
      ],
      "metadata": {
        "colab": {
          "base_uri": "https://localhost:8080/",
          "height": 89
        },
        "id": "KlTwXndxqhpM",
        "outputId": "86597970-ae60-4a7c-bb82-fa6b5e277ad4"
      },
      "execution_count": null,
      "outputs": [
        {
          "output_type": "display_data",
          "data": {
            "text/plain": [
              "   0\n",
              "0  7"
            ],
            "text/html": [
              "\n",
              "  <div id=\"df-9c4ec0b7-19bb-4b01-81b3-6be068a38295\" class=\"colab-df-container\">\n",
              "    <div>\n",
              "<style scoped>\n",
              "    .dataframe tbody tr th:only-of-type {\n",
              "        vertical-align: middle;\n",
              "    }\n",
              "\n",
              "    .dataframe tbody tr th {\n",
              "        vertical-align: top;\n",
              "    }\n",
              "\n",
              "    .dataframe thead th {\n",
              "        text-align: right;\n",
              "    }\n",
              "</style>\n",
              "<table border=\"1\" class=\"dataframe\">\n",
              "  <thead>\n",
              "    <tr style=\"text-align: right;\">\n",
              "      <th></th>\n",
              "      <th>0</th>\n",
              "    </tr>\n",
              "  </thead>\n",
              "  <tbody>\n",
              "    <tr>\n",
              "      <th>0</th>\n",
              "      <td>7</td>\n",
              "    </tr>\n",
              "  </tbody>\n",
              "</table>\n",
              "</div>\n",
              "    <div class=\"colab-df-buttons\">\n",
              "\n",
              "  <div class=\"colab-df-container\">\n",
              "    <button class=\"colab-df-convert\" onclick=\"convertToInteractive('df-9c4ec0b7-19bb-4b01-81b3-6be068a38295')\"\n",
              "            title=\"Convert this dataframe to an interactive table.\"\n",
              "            style=\"display:none;\">\n",
              "\n",
              "  <svg xmlns=\"http://www.w3.org/2000/svg\" height=\"24px\" viewBox=\"0 -960 960 960\">\n",
              "    <path d=\"M120-120v-720h720v720H120Zm60-500h600v-160H180v160Zm220 220h160v-160H400v160Zm0 220h160v-160H400v160ZM180-400h160v-160H180v160Zm440 0h160v-160H620v160ZM180-180h160v-160H180v160Zm440 0h160v-160H620v160Z\"/>\n",
              "  </svg>\n",
              "    </button>\n",
              "\n",
              "  <style>\n",
              "    .colab-df-container {\n",
              "      display:flex;\n",
              "      gap: 12px;\n",
              "    }\n",
              "\n",
              "    .colab-df-convert {\n",
              "      background-color: #E8F0FE;\n",
              "      border: none;\n",
              "      border-radius: 50%;\n",
              "      cursor: pointer;\n",
              "      display: none;\n",
              "      fill: #1967D2;\n",
              "      height: 32px;\n",
              "      padding: 0 0 0 0;\n",
              "      width: 32px;\n",
              "    }\n",
              "\n",
              "    .colab-df-convert:hover {\n",
              "      background-color: #E2EBFA;\n",
              "      box-shadow: 0px 1px 2px rgba(60, 64, 67, 0.3), 0px 1px 3px 1px rgba(60, 64, 67, 0.15);\n",
              "      fill: #174EA6;\n",
              "    }\n",
              "\n",
              "    .colab-df-buttons div {\n",
              "      margin-bottom: 4px;\n",
              "    }\n",
              "\n",
              "    [theme=dark] .colab-df-convert {\n",
              "      background-color: #3B4455;\n",
              "      fill: #D2E3FC;\n",
              "    }\n",
              "\n",
              "    [theme=dark] .colab-df-convert:hover {\n",
              "      background-color: #434B5C;\n",
              "      box-shadow: 0px 1px 3px 1px rgba(0, 0, 0, 0.15);\n",
              "      filter: drop-shadow(0px 1px 2px rgba(0, 0, 0, 0.3));\n",
              "      fill: #FFFFFF;\n",
              "    }\n",
              "  </style>\n",
              "\n",
              "    <script>\n",
              "      const buttonEl =\n",
              "        document.querySelector('#df-9c4ec0b7-19bb-4b01-81b3-6be068a38295 button.colab-df-convert');\n",
              "      buttonEl.style.display =\n",
              "        google.colab.kernel.accessAllowed ? 'block' : 'none';\n",
              "\n",
              "      async function convertToInteractive(key) {\n",
              "        const element = document.querySelector('#df-9c4ec0b7-19bb-4b01-81b3-6be068a38295');\n",
              "        const dataTable =\n",
              "          await google.colab.kernel.invokeFunction('convertToInteractive',\n",
              "                                                    [key], {});\n",
              "        if (!dataTable) return;\n",
              "\n",
              "        const docLinkHtml = 'Like what you see? Visit the ' +\n",
              "          '<a target=\"_blank\" href=https://colab.research.google.com/notebooks/data_table.ipynb>data table notebook</a>'\n",
              "          + ' to learn more about interactive tables.';\n",
              "        element.innerHTML = '';\n",
              "        dataTable['output_type'] = 'display_data';\n",
              "        await google.colab.output.renderOutput(dataTable, element);\n",
              "        const docLink = document.createElement('div');\n",
              "        docLink.innerHTML = docLinkHtml;\n",
              "        element.appendChild(docLink);\n",
              "      }\n",
              "    </script>\n",
              "  </div>\n",
              "\n",
              "\n",
              "<div id=\"df-6c2b1dcd-c7a0-48ff-b3a0-3bcb9fb5e291\">\n",
              "  <button class=\"colab-df-quickchart\" onclick=\"quickchart('df-6c2b1dcd-c7a0-48ff-b3a0-3bcb9fb5e291')\"\n",
              "            title=\"Suggest charts.\"\n",
              "            style=\"display:none;\">\n",
              "\n",
              "<svg xmlns=\"http://www.w3.org/2000/svg\" height=\"24px\"viewBox=\"0 0 24 24\"\n",
              "     width=\"24px\">\n",
              "    <g>\n",
              "        <path d=\"M19 3H5c-1.1 0-2 .9-2 2v14c0 1.1.9 2 2 2h14c1.1 0 2-.9 2-2V5c0-1.1-.9-2-2-2zM9 17H7v-7h2v7zm4 0h-2V7h2v10zm4 0h-2v-4h2v4z\"/>\n",
              "    </g>\n",
              "</svg>\n",
              "  </button>\n",
              "\n",
              "<style>\n",
              "  .colab-df-quickchart {\n",
              "    background-color: #E8F0FE;\n",
              "    border: none;\n",
              "    border-radius: 50%;\n",
              "    cursor: pointer;\n",
              "    display: none;\n",
              "    fill: #1967D2;\n",
              "    height: 32px;\n",
              "    padding: 0 0 0 0;\n",
              "    width: 32px;\n",
              "  }\n",
              "\n",
              "  .colab-df-quickchart:hover {\n",
              "    background-color: #E2EBFA;\n",
              "    box-shadow: 0px 1px 2px rgba(60, 64, 67, 0.3), 0px 1px 3px 1px rgba(60, 64, 67, 0.15);\n",
              "    fill: #174EA6;\n",
              "  }\n",
              "\n",
              "  [theme=dark] .colab-df-quickchart {\n",
              "    background-color: #3B4455;\n",
              "    fill: #D2E3FC;\n",
              "  }\n",
              "\n",
              "  [theme=dark] .colab-df-quickchart:hover {\n",
              "    background-color: #434B5C;\n",
              "    box-shadow: 0px 1px 3px 1px rgba(0, 0, 0, 0.15);\n",
              "    filter: drop-shadow(0px 1px 2px rgba(0, 0, 0, 0.3));\n",
              "    fill: #FFFFFF;\n",
              "  }\n",
              "</style>\n",
              "\n",
              "  <script>\n",
              "    async function quickchart(key) {\n",
              "      const charts = await google.colab.kernel.invokeFunction(\n",
              "          'suggestCharts', [key], {});\n",
              "    }\n",
              "    (() => {\n",
              "      let quickchartButtonEl =\n",
              "        document.querySelector('#df-6c2b1dcd-c7a0-48ff-b3a0-3bcb9fb5e291 button');\n",
              "      quickchartButtonEl.style.display =\n",
              "        google.colab.kernel.accessAllowed ? 'block' : 'none';\n",
              "    })();\n",
              "  </script>\n",
              "</div>\n",
              "    </div>\n",
              "  </div>\n"
            ]
          },
          "metadata": {}
        }
      ]
    },
    {
      "cell_type": "markdown",
      "source": [
        "####Count the total number of unique AI publications in the database"
      ],
      "metadata": {
        "id": "nnNNc1-Ux1VJ"
      }
    },
    {
      "cell_type": "code",
      "source": [
        "conn = sqlite3.connect('xxxx_publications_corpus.db')\n",
        "cur = conn.cursor()\n",
        "cur.execute(\n",
        "    \"SELECT COUNT(DISTINCT id) AS ai_papers FROM xxxx_pred_ai_publications;\"\n",
        "    )\n",
        "display(pd.DataFrame(cur.fetchall()))\n",
        "conn.close()"
      ],
      "metadata": {
        "colab": {
          "base_uri": "https://localhost:8080/",
          "height": 89
        },
        "id": "Om6xNJz_rU3L",
        "outputId": "90ca74e1-b73a-48b4-cbab-f7ee5295f275"
      },
      "execution_count": null,
      "outputs": [
        {
          "output_type": "display_data",
          "data": {
            "text/plain": [
              "    0\n",
              "0  19"
            ],
            "text/html": [
              "\n",
              "  <div id=\"df-0b11fcf1-db2c-46ec-9e6a-1756db6b4429\" class=\"colab-df-container\">\n",
              "    <div>\n",
              "<style scoped>\n",
              "    .dataframe tbody tr th:only-of-type {\n",
              "        vertical-align: middle;\n",
              "    }\n",
              "\n",
              "    .dataframe tbody tr th {\n",
              "        vertical-align: top;\n",
              "    }\n",
              "\n",
              "    .dataframe thead th {\n",
              "        text-align: right;\n",
              "    }\n",
              "</style>\n",
              "<table border=\"1\" class=\"dataframe\">\n",
              "  <thead>\n",
              "    <tr style=\"text-align: right;\">\n",
              "      <th></th>\n",
              "      <th>0</th>\n",
              "    </tr>\n",
              "  </thead>\n",
              "  <tbody>\n",
              "    <tr>\n",
              "      <th>0</th>\n",
              "      <td>19</td>\n",
              "    </tr>\n",
              "  </tbody>\n",
              "</table>\n",
              "</div>\n",
              "    <div class=\"colab-df-buttons\">\n",
              "\n",
              "  <div class=\"colab-df-container\">\n",
              "    <button class=\"colab-df-convert\" onclick=\"convertToInteractive('df-0b11fcf1-db2c-46ec-9e6a-1756db6b4429')\"\n",
              "            title=\"Convert this dataframe to an interactive table.\"\n",
              "            style=\"display:none;\">\n",
              "\n",
              "  <svg xmlns=\"http://www.w3.org/2000/svg\" height=\"24px\" viewBox=\"0 -960 960 960\">\n",
              "    <path d=\"M120-120v-720h720v720H120Zm60-500h600v-160H180v160Zm220 220h160v-160H400v160Zm0 220h160v-160H400v160ZM180-400h160v-160H180v160Zm440 0h160v-160H620v160ZM180-180h160v-160H180v160Zm440 0h160v-160H620v160Z\"/>\n",
              "  </svg>\n",
              "    </button>\n",
              "\n",
              "  <style>\n",
              "    .colab-df-container {\n",
              "      display:flex;\n",
              "      gap: 12px;\n",
              "    }\n",
              "\n",
              "    .colab-df-convert {\n",
              "      background-color: #E8F0FE;\n",
              "      border: none;\n",
              "      border-radius: 50%;\n",
              "      cursor: pointer;\n",
              "      display: none;\n",
              "      fill: #1967D2;\n",
              "      height: 32px;\n",
              "      padding: 0 0 0 0;\n",
              "      width: 32px;\n",
              "    }\n",
              "\n",
              "    .colab-df-convert:hover {\n",
              "      background-color: #E2EBFA;\n",
              "      box-shadow: 0px 1px 2px rgba(60, 64, 67, 0.3), 0px 1px 3px 1px rgba(60, 64, 67, 0.15);\n",
              "      fill: #174EA6;\n",
              "    }\n",
              "\n",
              "    .colab-df-buttons div {\n",
              "      margin-bottom: 4px;\n",
              "    }\n",
              "\n",
              "    [theme=dark] .colab-df-convert {\n",
              "      background-color: #3B4455;\n",
              "      fill: #D2E3FC;\n",
              "    }\n",
              "\n",
              "    [theme=dark] .colab-df-convert:hover {\n",
              "      background-color: #434B5C;\n",
              "      box-shadow: 0px 1px 3px 1px rgba(0, 0, 0, 0.15);\n",
              "      filter: drop-shadow(0px 1px 2px rgba(0, 0, 0, 0.3));\n",
              "      fill: #FFFFFF;\n",
              "    }\n",
              "  </style>\n",
              "\n",
              "    <script>\n",
              "      const buttonEl =\n",
              "        document.querySelector('#df-0b11fcf1-db2c-46ec-9e6a-1756db6b4429 button.colab-df-convert');\n",
              "      buttonEl.style.display =\n",
              "        google.colab.kernel.accessAllowed ? 'block' : 'none';\n",
              "\n",
              "      async function convertToInteractive(key) {\n",
              "        const element = document.querySelector('#df-0b11fcf1-db2c-46ec-9e6a-1756db6b4429');\n",
              "        const dataTable =\n",
              "          await google.colab.kernel.invokeFunction('convertToInteractive',\n",
              "                                                    [key], {});\n",
              "        if (!dataTable) return;\n",
              "\n",
              "        const docLinkHtml = 'Like what you see? Visit the ' +\n",
              "          '<a target=\"_blank\" href=https://colab.research.google.com/notebooks/data_table.ipynb>data table notebook</a>'\n",
              "          + ' to learn more about interactive tables.';\n",
              "        element.innerHTML = '';\n",
              "        dataTable['output_type'] = 'display_data';\n",
              "        await google.colab.output.renderOutput(dataTable, element);\n",
              "        const docLink = document.createElement('div');\n",
              "        docLink.innerHTML = docLinkHtml;\n",
              "        element.appendChild(docLink);\n",
              "      }\n",
              "    </script>\n",
              "  </div>\n",
              "\n",
              "\n",
              "<div id=\"df-4e051349-6d6d-4259-91c4-bbbbe6f0063e\">\n",
              "  <button class=\"colab-df-quickchart\" onclick=\"quickchart('df-4e051349-6d6d-4259-91c4-bbbbe6f0063e')\"\n",
              "            title=\"Suggest charts.\"\n",
              "            style=\"display:none;\">\n",
              "\n",
              "<svg xmlns=\"http://www.w3.org/2000/svg\" height=\"24px\"viewBox=\"0 0 24 24\"\n",
              "     width=\"24px\">\n",
              "    <g>\n",
              "        <path d=\"M19 3H5c-1.1 0-2 .9-2 2v14c0 1.1.9 2 2 2h14c1.1 0 2-.9 2-2V5c0-1.1-.9-2-2-2zM9 17H7v-7h2v7zm4 0h-2V7h2v10zm4 0h-2v-4h2v4z\"/>\n",
              "    </g>\n",
              "</svg>\n",
              "  </button>\n",
              "\n",
              "<style>\n",
              "  .colab-df-quickchart {\n",
              "    background-color: #E8F0FE;\n",
              "    border: none;\n",
              "    border-radius: 50%;\n",
              "    cursor: pointer;\n",
              "    display: none;\n",
              "    fill: #1967D2;\n",
              "    height: 32px;\n",
              "    padding: 0 0 0 0;\n",
              "    width: 32px;\n",
              "  }\n",
              "\n",
              "  .colab-df-quickchart:hover {\n",
              "    background-color: #E2EBFA;\n",
              "    box-shadow: 0px 1px 2px rgba(60, 64, 67, 0.3), 0px 1px 3px 1px rgba(60, 64, 67, 0.15);\n",
              "    fill: #174EA6;\n",
              "  }\n",
              "\n",
              "  [theme=dark] .colab-df-quickchart {\n",
              "    background-color: #3B4455;\n",
              "    fill: #D2E3FC;\n",
              "  }\n",
              "\n",
              "  [theme=dark] .colab-df-quickchart:hover {\n",
              "    background-color: #434B5C;\n",
              "    box-shadow: 0px 1px 3px 1px rgba(0, 0, 0, 0.15);\n",
              "    filter: drop-shadow(0px 1px 2px rgba(0, 0, 0, 0.3));\n",
              "    fill: #FFFFFF;\n",
              "  }\n",
              "</style>\n",
              "\n",
              "  <script>\n",
              "    async function quickchart(key) {\n",
              "      const charts = await google.colab.kernel.invokeFunction(\n",
              "          'suggestCharts', [key], {});\n",
              "    }\n",
              "    (() => {\n",
              "      let quickchartButtonEl =\n",
              "        document.querySelector('#df-4e051349-6d6d-4259-91c4-bbbbe6f0063e button');\n",
              "      quickchartButtonEl.style.display =\n",
              "        google.colab.kernel.accessAllowed ? 'block' : 'none';\n",
              "    })();\n",
              "  </script>\n",
              "</div>\n",
              "    </div>\n",
              "  </div>\n"
            ]
          },
          "metadata": {}
        }
      ]
    },
    {
      "cell_type": "markdown",
      "source": [
        "####Compute the fraction of AI papers to total papers"
      ],
      "metadata": {
        "id": "5ddsvbowx4ol"
      }
    },
    {
      "cell_type": "code",
      "source": [
        "conn = sqlite3.connect('xxxx_publications_corpus.db')\n",
        "cur = conn.cursor()\n",
        "cur.execute(\n",
        "    \"SELECT total_papers, ai_papers, (ai_papers*1.0/total_papers) AS ratio                \\\n",
        "    FROM (SELECT COUNT(DISTINCT id) AS total_papers FROM xxxx_publications_corpus) as A,  \\\n",
        "    (SELECT COUNT(DISTINCT id) AS ai_papers FROM xxxx_pred_ai_publications) as B;\"\n",
        "    )\n",
        "display(pd.DataFrame(cur.fetchall()))\n",
        "conn.close()"
      ],
      "metadata": {
        "colab": {
          "base_uri": "https://localhost:8080/",
          "height": 89
        },
        "id": "ceL0zaQxrgsw",
        "outputId": "f8869de2-4773-4d3a-a8a7-63fbf6b754c2"
      },
      "execution_count": null,
      "outputs": [
        {
          "output_type": "display_data",
          "data": {
            "text/plain": [
              "   0   1         2\n",
              "0  7  19  2.714286"
            ],
            "text/html": [
              "\n",
              "  <div id=\"df-b6b0a92e-a2e5-4db4-95e5-28166f8fa35f\" class=\"colab-df-container\">\n",
              "    <div>\n",
              "<style scoped>\n",
              "    .dataframe tbody tr th:only-of-type {\n",
              "        vertical-align: middle;\n",
              "    }\n",
              "\n",
              "    .dataframe tbody tr th {\n",
              "        vertical-align: top;\n",
              "    }\n",
              "\n",
              "    .dataframe thead th {\n",
              "        text-align: right;\n",
              "    }\n",
              "</style>\n",
              "<table border=\"1\" class=\"dataframe\">\n",
              "  <thead>\n",
              "    <tr style=\"text-align: right;\">\n",
              "      <th></th>\n",
              "      <th>0</th>\n",
              "      <th>1</th>\n",
              "      <th>2</th>\n",
              "    </tr>\n",
              "  </thead>\n",
              "  <tbody>\n",
              "    <tr>\n",
              "      <th>0</th>\n",
              "      <td>7</td>\n",
              "      <td>19</td>\n",
              "      <td>2.714286</td>\n",
              "    </tr>\n",
              "  </tbody>\n",
              "</table>\n",
              "</div>\n",
              "    <div class=\"colab-df-buttons\">\n",
              "\n",
              "  <div class=\"colab-df-container\">\n",
              "    <button class=\"colab-df-convert\" onclick=\"convertToInteractive('df-b6b0a92e-a2e5-4db4-95e5-28166f8fa35f')\"\n",
              "            title=\"Convert this dataframe to an interactive table.\"\n",
              "            style=\"display:none;\">\n",
              "\n",
              "  <svg xmlns=\"http://www.w3.org/2000/svg\" height=\"24px\" viewBox=\"0 -960 960 960\">\n",
              "    <path d=\"M120-120v-720h720v720H120Zm60-500h600v-160H180v160Zm220 220h160v-160H400v160Zm0 220h160v-160H400v160ZM180-400h160v-160H180v160Zm440 0h160v-160H620v160ZM180-180h160v-160H180v160Zm440 0h160v-160H620v160Z\"/>\n",
              "  </svg>\n",
              "    </button>\n",
              "\n",
              "  <style>\n",
              "    .colab-df-container {\n",
              "      display:flex;\n",
              "      gap: 12px;\n",
              "    }\n",
              "\n",
              "    .colab-df-convert {\n",
              "      background-color: #E8F0FE;\n",
              "      border: none;\n",
              "      border-radius: 50%;\n",
              "      cursor: pointer;\n",
              "      display: none;\n",
              "      fill: #1967D2;\n",
              "      height: 32px;\n",
              "      padding: 0 0 0 0;\n",
              "      width: 32px;\n",
              "    }\n",
              "\n",
              "    .colab-df-convert:hover {\n",
              "      background-color: #E2EBFA;\n",
              "      box-shadow: 0px 1px 2px rgba(60, 64, 67, 0.3), 0px 1px 3px 1px rgba(60, 64, 67, 0.15);\n",
              "      fill: #174EA6;\n",
              "    }\n",
              "\n",
              "    .colab-df-buttons div {\n",
              "      margin-bottom: 4px;\n",
              "    }\n",
              "\n",
              "    [theme=dark] .colab-df-convert {\n",
              "      background-color: #3B4455;\n",
              "      fill: #D2E3FC;\n",
              "    }\n",
              "\n",
              "    [theme=dark] .colab-df-convert:hover {\n",
              "      background-color: #434B5C;\n",
              "      box-shadow: 0px 1px 3px 1px rgba(0, 0, 0, 0.15);\n",
              "      filter: drop-shadow(0px 1px 2px rgba(0, 0, 0, 0.3));\n",
              "      fill: #FFFFFF;\n",
              "    }\n",
              "  </style>\n",
              "\n",
              "    <script>\n",
              "      const buttonEl =\n",
              "        document.querySelector('#df-b6b0a92e-a2e5-4db4-95e5-28166f8fa35f button.colab-df-convert');\n",
              "      buttonEl.style.display =\n",
              "        google.colab.kernel.accessAllowed ? 'block' : 'none';\n",
              "\n",
              "      async function convertToInteractive(key) {\n",
              "        const element = document.querySelector('#df-b6b0a92e-a2e5-4db4-95e5-28166f8fa35f');\n",
              "        const dataTable =\n",
              "          await google.colab.kernel.invokeFunction('convertToInteractive',\n",
              "                                                    [key], {});\n",
              "        if (!dataTable) return;\n",
              "\n",
              "        const docLinkHtml = 'Like what you see? Visit the ' +\n",
              "          '<a target=\"_blank\" href=https://colab.research.google.com/notebooks/data_table.ipynb>data table notebook</a>'\n",
              "          + ' to learn more about interactive tables.';\n",
              "        element.innerHTML = '';\n",
              "        dataTable['output_type'] = 'display_data';\n",
              "        await google.colab.output.renderOutput(dataTable, element);\n",
              "        const docLink = document.createElement('div');\n",
              "        docLink.innerHTML = docLinkHtml;\n",
              "        element.appendChild(docLink);\n",
              "      }\n",
              "    </script>\n",
              "  </div>\n",
              "\n",
              "\n",
              "<div id=\"df-6d69f450-a6d5-43fd-9f5e-6c220327faaa\">\n",
              "  <button class=\"colab-df-quickchart\" onclick=\"quickchart('df-6d69f450-a6d5-43fd-9f5e-6c220327faaa')\"\n",
              "            title=\"Suggest charts.\"\n",
              "            style=\"display:none;\">\n",
              "\n",
              "<svg xmlns=\"http://www.w3.org/2000/svg\" height=\"24px\"viewBox=\"0 0 24 24\"\n",
              "     width=\"24px\">\n",
              "    <g>\n",
              "        <path d=\"M19 3H5c-1.1 0-2 .9-2 2v14c0 1.1.9 2 2 2h14c1.1 0 2-.9 2-2V5c0-1.1-.9-2-2-2zM9 17H7v-7h2v7zm4 0h-2V7h2v10zm4 0h-2v-4h2v4z\"/>\n",
              "    </g>\n",
              "</svg>\n",
              "  </button>\n",
              "\n",
              "<style>\n",
              "  .colab-df-quickchart {\n",
              "    background-color: #E8F0FE;\n",
              "    border: none;\n",
              "    border-radius: 50%;\n",
              "    cursor: pointer;\n",
              "    display: none;\n",
              "    fill: #1967D2;\n",
              "    height: 32px;\n",
              "    padding: 0 0 0 0;\n",
              "    width: 32px;\n",
              "  }\n",
              "\n",
              "  .colab-df-quickchart:hover {\n",
              "    background-color: #E2EBFA;\n",
              "    box-shadow: 0px 1px 2px rgba(60, 64, 67, 0.3), 0px 1px 3px 1px rgba(60, 64, 67, 0.15);\n",
              "    fill: #174EA6;\n",
              "  }\n",
              "\n",
              "  [theme=dark] .colab-df-quickchart {\n",
              "    background-color: #3B4455;\n",
              "    fill: #D2E3FC;\n",
              "  }\n",
              "\n",
              "  [theme=dark] .colab-df-quickchart:hover {\n",
              "    background-color: #434B5C;\n",
              "    box-shadow: 0px 1px 3px 1px rgba(0, 0, 0, 0.15);\n",
              "    filter: drop-shadow(0px 1px 2px rgba(0, 0, 0, 0.3));\n",
              "    fill: #FFFFFF;\n",
              "  }\n",
              "</style>\n",
              "\n",
              "  <script>\n",
              "    async function quickchart(key) {\n",
              "      const charts = await google.colab.kernel.invokeFunction(\n",
              "          'suggestCharts', [key], {});\n",
              "    }\n",
              "    (() => {\n",
              "      let quickchartButtonEl =\n",
              "        document.querySelector('#df-6d69f450-a6d5-43fd-9f5e-6c220327faaa button');\n",
              "      quickchartButtonEl.style.display =\n",
              "        google.colab.kernel.accessAllowed ? 'block' : 'none';\n",
              "    })();\n",
              "  </script>\n",
              "</div>\n",
              "    </div>\n",
              "  </div>\n"
            ]
          },
          "metadata": {}
        }
      ]
    },
    {
      "cell_type": "markdown",
      "source": [
        "###Data Quality Check"
      ],
      "metadata": {
        "id": "4y64pfaOyJk7"
      }
    },
    {
      "cell_type": "markdown",
      "source": [
        "####Checks how many AI publications have empty abstracts by country_code"
      ],
      "metadata": {
        "id": "QTcu9_OoylFx"
      }
    },
    {
      "cell_type": "code",
      "source": [
        "conn = sqlite3.connect('xxxx_publications_corpus.db')\n",
        "cur = conn.cursor()\n",
        "cur.execute(\n",
        "    \"SELECT P.country_code, COUNT(*) as no_abstract_ai_papers \\\n",
        "    FROM xxxx_pred_ai_publications P                          \\\n",
        "    INNER JOIN xxxx_publications_corpus C                     \\\n",
        "    ON P.id = C.id                                            \\\n",
        "    WHERE C.abstract IS NULL OR C.abstract = ''               \\\n",
        "    GROUP BY P.country_code                                   \\\n",
        "    ORDER BY no_abstract_ai_papers DESC;\"\n",
        "    )\n",
        "display(pd.DataFrame(cur.fetchall()))\n",
        "conn.close()"
      ],
      "metadata": {
        "colab": {
          "base_uri": "https://localhost:8080/",
          "height": 143
        },
        "id": "8DFwmQTlsFxp",
        "outputId": "9bc054fa-b1ad-4e0f-aadc-85195234c6fb"
      },
      "execution_count": null,
      "outputs": [
        {
          "output_type": "display_data",
          "data": {
            "text/plain": [
              "    0  1\n",
              "0  US  2\n",
              "1  PL  1\n",
              "2  EG  1"
            ],
            "text/html": [
              "\n",
              "  <div id=\"df-eda96687-c1c9-4b03-82c5-f9394ede1048\" class=\"colab-df-container\">\n",
              "    <div>\n",
              "<style scoped>\n",
              "    .dataframe tbody tr th:only-of-type {\n",
              "        vertical-align: middle;\n",
              "    }\n",
              "\n",
              "    .dataframe tbody tr th {\n",
              "        vertical-align: top;\n",
              "    }\n",
              "\n",
              "    .dataframe thead th {\n",
              "        text-align: right;\n",
              "    }\n",
              "</style>\n",
              "<table border=\"1\" class=\"dataframe\">\n",
              "  <thead>\n",
              "    <tr style=\"text-align: right;\">\n",
              "      <th></th>\n",
              "      <th>0</th>\n",
              "      <th>1</th>\n",
              "    </tr>\n",
              "  </thead>\n",
              "  <tbody>\n",
              "    <tr>\n",
              "      <th>0</th>\n",
              "      <td>US</td>\n",
              "      <td>2</td>\n",
              "    </tr>\n",
              "    <tr>\n",
              "      <th>1</th>\n",
              "      <td>PL</td>\n",
              "      <td>1</td>\n",
              "    </tr>\n",
              "    <tr>\n",
              "      <th>2</th>\n",
              "      <td>EG</td>\n",
              "      <td>1</td>\n",
              "    </tr>\n",
              "  </tbody>\n",
              "</table>\n",
              "</div>\n",
              "    <div class=\"colab-df-buttons\">\n",
              "\n",
              "  <div class=\"colab-df-container\">\n",
              "    <button class=\"colab-df-convert\" onclick=\"convertToInteractive('df-eda96687-c1c9-4b03-82c5-f9394ede1048')\"\n",
              "            title=\"Convert this dataframe to an interactive table.\"\n",
              "            style=\"display:none;\">\n",
              "\n",
              "  <svg xmlns=\"http://www.w3.org/2000/svg\" height=\"24px\" viewBox=\"0 -960 960 960\">\n",
              "    <path d=\"M120-120v-720h720v720H120Zm60-500h600v-160H180v160Zm220 220h160v-160H400v160Zm0 220h160v-160H400v160ZM180-400h160v-160H180v160Zm440 0h160v-160H620v160ZM180-180h160v-160H180v160Zm440 0h160v-160H620v160Z\"/>\n",
              "  </svg>\n",
              "    </button>\n",
              "\n",
              "  <style>\n",
              "    .colab-df-container {\n",
              "      display:flex;\n",
              "      gap: 12px;\n",
              "    }\n",
              "\n",
              "    .colab-df-convert {\n",
              "      background-color: #E8F0FE;\n",
              "      border: none;\n",
              "      border-radius: 50%;\n",
              "      cursor: pointer;\n",
              "      display: none;\n",
              "      fill: #1967D2;\n",
              "      height: 32px;\n",
              "      padding: 0 0 0 0;\n",
              "      width: 32px;\n",
              "    }\n",
              "\n",
              "    .colab-df-convert:hover {\n",
              "      background-color: #E2EBFA;\n",
              "      box-shadow: 0px 1px 2px rgba(60, 64, 67, 0.3), 0px 1px 3px 1px rgba(60, 64, 67, 0.15);\n",
              "      fill: #174EA6;\n",
              "    }\n",
              "\n",
              "    .colab-df-buttons div {\n",
              "      margin-bottom: 4px;\n",
              "    }\n",
              "\n",
              "    [theme=dark] .colab-df-convert {\n",
              "      background-color: #3B4455;\n",
              "      fill: #D2E3FC;\n",
              "    }\n",
              "\n",
              "    [theme=dark] .colab-df-convert:hover {\n",
              "      background-color: #434B5C;\n",
              "      box-shadow: 0px 1px 3px 1px rgba(0, 0, 0, 0.15);\n",
              "      filter: drop-shadow(0px 1px 2px rgba(0, 0, 0, 0.3));\n",
              "      fill: #FFFFFF;\n",
              "    }\n",
              "  </style>\n",
              "\n",
              "    <script>\n",
              "      const buttonEl =\n",
              "        document.querySelector('#df-eda96687-c1c9-4b03-82c5-f9394ede1048 button.colab-df-convert');\n",
              "      buttonEl.style.display =\n",
              "        google.colab.kernel.accessAllowed ? 'block' : 'none';\n",
              "\n",
              "      async function convertToInteractive(key) {\n",
              "        const element = document.querySelector('#df-eda96687-c1c9-4b03-82c5-f9394ede1048');\n",
              "        const dataTable =\n",
              "          await google.colab.kernel.invokeFunction('convertToInteractive',\n",
              "                                                    [key], {});\n",
              "        if (!dataTable) return;\n",
              "\n",
              "        const docLinkHtml = 'Like what you see? Visit the ' +\n",
              "          '<a target=\"_blank\" href=https://colab.research.google.com/notebooks/data_table.ipynb>data table notebook</a>'\n",
              "          + ' to learn more about interactive tables.';\n",
              "        element.innerHTML = '';\n",
              "        dataTable['output_type'] = 'display_data';\n",
              "        await google.colab.output.renderOutput(dataTable, element);\n",
              "        const docLink = document.createElement('div');\n",
              "        docLink.innerHTML = docLinkHtml;\n",
              "        element.appendChild(docLink);\n",
              "      }\n",
              "    </script>\n",
              "  </div>\n",
              "\n",
              "\n",
              "<div id=\"df-d95d2ac4-3110-43f4-8e5a-513d88402aa8\">\n",
              "  <button class=\"colab-df-quickchart\" onclick=\"quickchart('df-d95d2ac4-3110-43f4-8e5a-513d88402aa8')\"\n",
              "            title=\"Suggest charts.\"\n",
              "            style=\"display:none;\">\n",
              "\n",
              "<svg xmlns=\"http://www.w3.org/2000/svg\" height=\"24px\"viewBox=\"0 0 24 24\"\n",
              "     width=\"24px\">\n",
              "    <g>\n",
              "        <path d=\"M19 3H5c-1.1 0-2 .9-2 2v14c0 1.1.9 2 2 2h14c1.1 0 2-.9 2-2V5c0-1.1-.9-2-2-2zM9 17H7v-7h2v7zm4 0h-2V7h2v10zm4 0h-2v-4h2v4z\"/>\n",
              "    </g>\n",
              "</svg>\n",
              "  </button>\n",
              "\n",
              "<style>\n",
              "  .colab-df-quickchart {\n",
              "    background-color: #E8F0FE;\n",
              "    border: none;\n",
              "    border-radius: 50%;\n",
              "    cursor: pointer;\n",
              "    display: none;\n",
              "    fill: #1967D2;\n",
              "    height: 32px;\n",
              "    padding: 0 0 0 0;\n",
              "    width: 32px;\n",
              "  }\n",
              "\n",
              "  .colab-df-quickchart:hover {\n",
              "    background-color: #E2EBFA;\n",
              "    box-shadow: 0px 1px 2px rgba(60, 64, 67, 0.3), 0px 1px 3px 1px rgba(60, 64, 67, 0.15);\n",
              "    fill: #174EA6;\n",
              "  }\n",
              "\n",
              "  [theme=dark] .colab-df-quickchart {\n",
              "    background-color: #3B4455;\n",
              "    fill: #D2E3FC;\n",
              "  }\n",
              "\n",
              "  [theme=dark] .colab-df-quickchart:hover {\n",
              "    background-color: #434B5C;\n",
              "    box-shadow: 0px 1px 3px 1px rgba(0, 0, 0, 0.15);\n",
              "    filter: drop-shadow(0px 1px 2px rgba(0, 0, 0, 0.3));\n",
              "    fill: #FFFFFF;\n",
              "  }\n",
              "</style>\n",
              "\n",
              "  <script>\n",
              "    async function quickchart(key) {\n",
              "      const charts = await google.colab.kernel.invokeFunction(\n",
              "          'suggestCharts', [key], {});\n",
              "    }\n",
              "    (() => {\n",
              "      let quickchartButtonEl =\n",
              "        document.querySelector('#df-d95d2ac4-3110-43f4-8e5a-513d88402aa8 button');\n",
              "      quickchartButtonEl.style.display =\n",
              "        google.colab.kernel.accessAllowed ? 'block' : 'none';\n",
              "    })();\n",
              "  </script>\n",
              "</div>\n",
              "    </div>\n",
              "  </div>\n"
            ]
          },
          "metadata": {}
        }
      ]
    },
    {
      "cell_type": "markdown",
      "source": [
        "###Organization and Country Analysis"
      ],
      "metadata": {
        "id": "_n28QBsdzw9R"
      }
    },
    {
      "cell_type": "markdown",
      "source": [
        "####Count the number of AI publications that have at least one author with a reported Chinese affiliation in each year in the database"
      ],
      "metadata": {
        "id": "m1qVsmznzuQP"
      }
    },
    {
      "cell_type": "code",
      "source": [
        "conn = sqlite3.connect('xxxx_publications_corpus.db')\n",
        "cur = conn.cursor()\n",
        "cur.execute(\n",
        "    \"SELECT P.year, COUNT(DISTINCT P.id) as cn_ai_papers      \\\n",
        "    FROM xxxx_pred_ai_publications P                          \\\n",
        "    WHERE P.country_code = 'CN'                               \\\n",
        "    GROUP BY P.year                                           \\\n",
        "    ORDER BY P.year;\"\n",
        ")\n",
        "display(pd.DataFrame(cur.fetchall()))\n",
        "conn.close()\n"
      ],
      "metadata": {
        "colab": {
          "base_uri": "https://localhost:8080/",
          "height": 89
        },
        "id": "TPc6nhg5uP6H",
        "outputId": "a5b6c994-8c27-4b8e-c8ee-006fc8ad6209"
      },
      "execution_count": null,
      "outputs": [
        {
          "output_type": "display_data",
          "data": {
            "text/plain": [
              "      0  1\n",
              "0  2017  2"
            ],
            "text/html": [
              "\n",
              "  <div id=\"df-28cea48a-2df5-4ba7-8a4f-6f7eb33b09b1\" class=\"colab-df-container\">\n",
              "    <div>\n",
              "<style scoped>\n",
              "    .dataframe tbody tr th:only-of-type {\n",
              "        vertical-align: middle;\n",
              "    }\n",
              "\n",
              "    .dataframe tbody tr th {\n",
              "        vertical-align: top;\n",
              "    }\n",
              "\n",
              "    .dataframe thead th {\n",
              "        text-align: right;\n",
              "    }\n",
              "</style>\n",
              "<table border=\"1\" class=\"dataframe\">\n",
              "  <thead>\n",
              "    <tr style=\"text-align: right;\">\n",
              "      <th></th>\n",
              "      <th>0</th>\n",
              "      <th>1</th>\n",
              "    </tr>\n",
              "  </thead>\n",
              "  <tbody>\n",
              "    <tr>\n",
              "      <th>0</th>\n",
              "      <td>2017</td>\n",
              "      <td>2</td>\n",
              "    </tr>\n",
              "  </tbody>\n",
              "</table>\n",
              "</div>\n",
              "    <div class=\"colab-df-buttons\">\n",
              "\n",
              "  <div class=\"colab-df-container\">\n",
              "    <button class=\"colab-df-convert\" onclick=\"convertToInteractive('df-28cea48a-2df5-4ba7-8a4f-6f7eb33b09b1')\"\n",
              "            title=\"Convert this dataframe to an interactive table.\"\n",
              "            style=\"display:none;\">\n",
              "\n",
              "  <svg xmlns=\"http://www.w3.org/2000/svg\" height=\"24px\" viewBox=\"0 -960 960 960\">\n",
              "    <path d=\"M120-120v-720h720v720H120Zm60-500h600v-160H180v160Zm220 220h160v-160H400v160Zm0 220h160v-160H400v160ZM180-400h160v-160H180v160Zm440 0h160v-160H620v160ZM180-180h160v-160H180v160Zm440 0h160v-160H620v160Z\"/>\n",
              "  </svg>\n",
              "    </button>\n",
              "\n",
              "  <style>\n",
              "    .colab-df-container {\n",
              "      display:flex;\n",
              "      gap: 12px;\n",
              "    }\n",
              "\n",
              "    .colab-df-convert {\n",
              "      background-color: #E8F0FE;\n",
              "      border: none;\n",
              "      border-radius: 50%;\n",
              "      cursor: pointer;\n",
              "      display: none;\n",
              "      fill: #1967D2;\n",
              "      height: 32px;\n",
              "      padding: 0 0 0 0;\n",
              "      width: 32px;\n",
              "    }\n",
              "\n",
              "    .colab-df-convert:hover {\n",
              "      background-color: #E2EBFA;\n",
              "      box-shadow: 0px 1px 2px rgba(60, 64, 67, 0.3), 0px 1px 3px 1px rgba(60, 64, 67, 0.15);\n",
              "      fill: #174EA6;\n",
              "    }\n",
              "\n",
              "    .colab-df-buttons div {\n",
              "      margin-bottom: 4px;\n",
              "    }\n",
              "\n",
              "    [theme=dark] .colab-df-convert {\n",
              "      background-color: #3B4455;\n",
              "      fill: #D2E3FC;\n",
              "    }\n",
              "\n",
              "    [theme=dark] .colab-df-convert:hover {\n",
              "      background-color: #434B5C;\n",
              "      box-shadow: 0px 1px 3px 1px rgba(0, 0, 0, 0.15);\n",
              "      filter: drop-shadow(0px 1px 2px rgba(0, 0, 0, 0.3));\n",
              "      fill: #FFFFFF;\n",
              "    }\n",
              "  </style>\n",
              "\n",
              "    <script>\n",
              "      const buttonEl =\n",
              "        document.querySelector('#df-28cea48a-2df5-4ba7-8a4f-6f7eb33b09b1 button.colab-df-convert');\n",
              "      buttonEl.style.display =\n",
              "        google.colab.kernel.accessAllowed ? 'block' : 'none';\n",
              "\n",
              "      async function convertToInteractive(key) {\n",
              "        const element = document.querySelector('#df-28cea48a-2df5-4ba7-8a4f-6f7eb33b09b1');\n",
              "        const dataTable =\n",
              "          await google.colab.kernel.invokeFunction('convertToInteractive',\n",
              "                                                    [key], {});\n",
              "        if (!dataTable) return;\n",
              "\n",
              "        const docLinkHtml = 'Like what you see? Visit the ' +\n",
              "          '<a target=\"_blank\" href=https://colab.research.google.com/notebooks/data_table.ipynb>data table notebook</a>'\n",
              "          + ' to learn more about interactive tables.';\n",
              "        element.innerHTML = '';\n",
              "        dataTable['output_type'] = 'display_data';\n",
              "        await google.colab.output.renderOutput(dataTable, element);\n",
              "        const docLink = document.createElement('div');\n",
              "        docLink.innerHTML = docLinkHtml;\n",
              "        element.appendChild(docLink);\n",
              "      }\n",
              "    </script>\n",
              "  </div>\n",
              "\n",
              "\n",
              "<div id=\"df-619460a1-ff47-4fcd-b913-15e527912a26\">\n",
              "  <button class=\"colab-df-quickchart\" onclick=\"quickchart('df-619460a1-ff47-4fcd-b913-15e527912a26')\"\n",
              "            title=\"Suggest charts.\"\n",
              "            style=\"display:none;\">\n",
              "\n",
              "<svg xmlns=\"http://www.w3.org/2000/svg\" height=\"24px\"viewBox=\"0 0 24 24\"\n",
              "     width=\"24px\">\n",
              "    <g>\n",
              "        <path d=\"M19 3H5c-1.1 0-2 .9-2 2v14c0 1.1.9 2 2 2h14c1.1 0 2-.9 2-2V5c0-1.1-.9-2-2-2zM9 17H7v-7h2v7zm4 0h-2V7h2v10zm4 0h-2v-4h2v4z\"/>\n",
              "    </g>\n",
              "</svg>\n",
              "  </button>\n",
              "\n",
              "<style>\n",
              "  .colab-df-quickchart {\n",
              "    background-color: #E8F0FE;\n",
              "    border: none;\n",
              "    border-radius: 50%;\n",
              "    cursor: pointer;\n",
              "    display: none;\n",
              "    fill: #1967D2;\n",
              "    height: 32px;\n",
              "    padding: 0 0 0 0;\n",
              "    width: 32px;\n",
              "  }\n",
              "\n",
              "  .colab-df-quickchart:hover {\n",
              "    background-color: #E2EBFA;\n",
              "    box-shadow: 0px 1px 2px rgba(60, 64, 67, 0.3), 0px 1px 3px 1px rgba(60, 64, 67, 0.15);\n",
              "    fill: #174EA6;\n",
              "  }\n",
              "\n",
              "  [theme=dark] .colab-df-quickchart {\n",
              "    background-color: #3B4455;\n",
              "    fill: #D2E3FC;\n",
              "  }\n",
              "\n",
              "  [theme=dark] .colab-df-quickchart:hover {\n",
              "    background-color: #434B5C;\n",
              "    box-shadow: 0px 1px 3px 1px rgba(0, 0, 0, 0.15);\n",
              "    filter: drop-shadow(0px 1px 2px rgba(0, 0, 0, 0.3));\n",
              "    fill: #FFFFFF;\n",
              "  }\n",
              "</style>\n",
              "\n",
              "  <script>\n",
              "    async function quickchart(key) {\n",
              "      const charts = await google.colab.kernel.invokeFunction(\n",
              "          'suggestCharts', [key], {});\n",
              "    }\n",
              "    (() => {\n",
              "      let quickchartButtonEl =\n",
              "        document.querySelector('#df-619460a1-ff47-4fcd-b913-15e527912a26 button');\n",
              "      quickchartButtonEl.style.display =\n",
              "        google.colab.kernel.accessAllowed ? 'block' : 'none';\n",
              "    })();\n",
              "  </script>\n",
              "</div>\n",
              "    </div>\n",
              "  </div>\n"
            ]
          },
          "metadata": {}
        }
      ]
    },
    {
      "cell_type": "markdown",
      "source": [
        "##Python"
      ],
      "metadata": {
        "id": "TJPzlNeI0OoE"
      }
    },
    {
      "cell_type": "markdown",
      "source": [
        "####In the previous section, we queried tables containing data on AI publications. In this part, we will utilize Python to analyze and present the data in an accessible manner. We will import a synthetic dataset, which contains scores for an AI-related test conducted by researchers from five countries: the United States (\"US\"), China (\"CN\"), the United Kingdom (\"GB\"), France (\"FR\"), and Italy (\"IT\")."
      ],
      "metadata": {
        "id": "094ZhwtN05Id"
      }
    },
    {
      "cell_type": "code",
      "source": [
        "url = \"https://drive.google.com/uc?id=1CJr5QcKl7mDAqW6qbY2udrUqhysElVqj\"\n",
        "output = \"country_score.csv\"\n",
        "\n",
        "gdown.download(url, output, quiet=False)\n",
        "\n",
        "df = pd.read_csv(\"country_score.csv\")"
      ],
      "metadata": {
        "id": "g7XbwCZn4bTl",
        "colab": {
          "base_uri": "https://localhost:8080/"
        },
        "outputId": "8848310d-288e-4fc4-eab7-082cf9933d09"
      },
      "execution_count": null,
      "outputs": [
        {
          "output_type": "stream",
          "name": "stderr",
          "text": [
            "Downloading...\n",
            "From: https://drive.google.com/uc?id=1CJr5QcKl7mDAqW6qbY2udrUqhysElVqj\n",
            "To: /content/country_score.csv\n",
            "100%|██████████| 159k/159k [00:00<00:00, 26.2MB/s]\n"
          ]
        }
      ]
    },
    {
      "cell_type": "markdown",
      "source": [
        "###Calculate Country Scores"
      ],
      "metadata": {
        "id": "_4Qt4hs_1US6"
      }
    },
    {
      "cell_type": "markdown",
      "source": [
        "####Calculate the number of test scores in the dataset for each country"
      ],
      "metadata": {
        "id": "WGJLDz8Y1v0j"
      }
    },
    {
      "cell_type": "code",
      "source": [
        "# Calculate the number of test scores for each country\n",
        "num_scores = df.groupby('Country')['Score'].count()\n",
        "print(\"Number of scores per country:\\n\", num_scores)"
      ],
      "metadata": {
        "colab": {
          "base_uri": "https://localhost:8080/"
        },
        "id": "NZAWbt8ogZGY",
        "outputId": "b4ea9add-5c1a-4626-af25-b68f0e2b67d7"
      },
      "execution_count": null,
      "outputs": [
        {
          "output_type": "stream",
          "name": "stdout",
          "text": [
            "Number of scores per country:\n",
            " Country\n",
            "CN     953\n",
            "FR    2727\n",
            "GB    3288\n",
            "IT    2203\n",
            "US     829\n",
            "Name: Score, dtype: int64\n"
          ]
        }
      ]
    },
    {
      "cell_type": "markdown",
      "source": [
        "####Calculate the average test score for each country."
      ],
      "metadata": {
        "id": "zTxJFPHK18nq"
      }
    },
    {
      "cell_type": "code",
      "source": [
        "# Calculate the average test score for each country\n",
        "avg_scores = df.groupby('Country')['Score'].mean()\n",
        "print(\"\\nAverage score per country:\\n\", avg_scores)\n",
        "\n",
        "\n",
        "import seaborn as sns\n",
        "\n",
        "# Convert avg_scores to DataFrame and sort it by Score\n",
        "avg_scores_df = avg_scores.reset_index()\n",
        "avg_scores_df_sorted = avg_scores_df.sort_values(by='Score', ascending=False)\n",
        "\n",
        "barplot = sns.barplot(x='Score', y='Country', data=avg_scores_df_sorted)\n",
        "plt.title('Average Test Scores by Country')\n",
        "plt.ylabel('Country')\n",
        "plt.xlabel('Average Score')\n",
        "\n",
        "# Annotate each bar with the corresponding average score\n",
        "for index, row in avg_scores_df_sorted.iterrows():\n",
        "    barplot.text(row.Score/2, index, round(row.Score, 2), color='black', ha=\"center\", va=\"center\")\n",
        "\n",
        "plt.show()"
      ],
      "metadata": {
        "colab": {
          "base_uri": "https://localhost:8080/",
          "height": 628
        },
        "id": "fsAmaHMa1-Na",
        "outputId": "a39d2fc9-0272-420f-9c19-353792ea8665"
      },
      "execution_count": null,
      "outputs": [
        {
          "output_type": "stream",
          "name": "stdout",
          "text": [
            "\n",
            "Average score per country:\n",
            " Country\n",
            "CN    23.251880\n",
            "FR    22.976525\n",
            "GB    23.154823\n",
            "IT    23.289055\n",
            "US    22.389688\n",
            "Name: Score, dtype: float64\n"
          ]
        },
        {
          "output_type": "display_data",
          "data": {
            "text/plain": [
              "<Figure size 640x480 with 1 Axes>"
            ],
            "image/png": "[encoded data removed]"
          },
          "metadata": {}
        }
      ]
    },
    {
      "cell_type": "markdown",
      "source": [
        "###Visualize Country Scores"
      ],
      "metadata": {
        "id": "AuXhiIpq2ixL"
      }
    },
    {
      "cell_type": "markdown",
      "source": [
        "####Plot a histogram showing the distribution of scores for each of the five countries"
      ],
      "metadata": {
        "id": "yDcJHaS92oz6"
      }
    },
    {
      "cell_type": "code",
      "execution_count": null,
      "metadata": {
        "colab": {
          "base_uri": "https://localhost:8080/",
          "height": 472
        },
        "id": "4kxan6xigVSw",
        "outputId": "a19d78d1-8bea-421e-d2c6-c8448fa47833"
      },
      "outputs": [
        {
          "output_type": "display_data",
          "data": {
            "text/plain": [
              "<Figure size 640x480 with 1 Axes>"
            ],
            "image/png": "[encoded data removed]"
          },
          "metadata": {}
        }
      ],
      "source": [
        "# Histogram of scores for each country\n",
        "for country in df['Country'].unique():\n",
        "    df[df['Country'] == country]['Score'].hist(bins=10, alpha=0.5)\n",
        "plt.legend(df['Country'].unique())\n",
        "plt.title('Distribution of scores by country')\n",
        "plt.xlabel('Score')\n",
        "plt.ylabel('Frequency')\n",
        "plt.show()"
      ]
    },
    {
      "cell_type": "markdown",
      "source": [
        "####Show the average score per country using color gradations."
      ],
      "metadata": {
        "id": "gksC1O2Z6WXI"
      }
    },
    {
      "cell_type": "code",
      "source": [
        "# Summary table for average score and count\n",
        "summary_table = df.groupby('Country')['Score'].agg(['count', 'mean']).sort_values(\"count\", ascending = False)\n",
        "\n",
        "# Creating a figure with two subplots (heatmaps), side by side\n",
        "fig, axs = plt.subplots(ncols=2, figsize=(12, 5))\n",
        "\n",
        "# Plotting the first heatmap which shows the counts of scores by country\n",
        "sns.heatmap(summary_table[[\"count\"]], annot=True, cmap='viridis', ax=axs[0])\n",
        "axs[0].set_title(\"Heatmap of Counts by Country\")\n",
        "axs[0].set_xlabel(\"Count\")\n",
        "axs[0].set_ylabel(\"Country\")\n",
        "\n",
        "# Plotting the second heatmap which shows the average scores by country\n",
        "sns.heatmap(summary_table[[\"mean\"]], annot=True, cmap='viridis', ax=axs[1])\n",
        "axs[1].set_title(\"Heatmap of Mean Scores by Country\")\n",
        "axs[1].set_xlabel(\"Mean Score\")\n",
        "axs[1].set_ylabel(\"Country\")\n",
        "\n",
        "# Adjusting the subplots to fit into the figure area\n",
        "plt.tight_layout()\n",
        "\n",
        "# Displaying the figure with two heatmaps\n",
        "plt.show()"
      ],
      "metadata": {
        "colab": {
          "base_uri": "https://localhost:8080/",
          "height": 507
        },
        "id": "VqSHBHIelwzx",
        "outputId": "8301b728-1781-4617-e3d1-4bd22759f466"
      },
      "execution_count": null,
      "outputs": [
        {
          "output_type": "display_data",
          "data": {
            "text/plain": [
              "<Figure size 1200x500 with 4 Axes>"
            ],
            "image/png": "[encoded data removed]"
          },
          "metadata": {}
        }
      ]
    },
    {
      "cell_type": "markdown",
      "source": [
        "####Generate a boxplot showing AI research scores by country and annotates each box with the number of data points for that country"
      ],
      "metadata": {
        "id": "xNn8tMWVl2m8"
      }
    },
    {
      "cell_type": "code",
      "source": [
        "# @title\n",
        "# Boxplot of scores for each country\n",
        "plt.figure(figsize=(10,6))\n",
        "box_plot = sns.boxplot(x='Country', y='Score', data=df)\n",
        "plt.title('Boxplot of scores by country')\n",
        "plt.xlabel('Country')\n",
        "plt.ylabel('Score')\n",
        "# Get the counts for each country\n",
        "counts = df['Country'].value_counts().to_dict()\n",
        "# Annotate the boxplot with the counts\n",
        "for i, country in enumerate(df['Country'].unique()):\n",
        "  count = counts[country]\n",
        "# Add a negative offset to the y-coordinate to position the text below the whisker\n",
        "  offset = -2\n",
        "  box_plot.text(i, df['Score'].min() + offset, f'count = {count}',\n",
        "                horizontalalignment='center', color='black',\n",
        "                weight='semibold')\n",
        "plt.show()"
      ],
      "metadata": {
        "colab": {
          "base_uri": "https://localhost:8080/",
          "height": 564
        },
        "id": "8YepF6at5P0E",
        "outputId": "822ebaba-5943-4d93-bff7-565a2141a830"
      },
      "execution_count": null,
      "outputs": [
        {
          "output_type": "display_data",
          "data": {
            "text/plain": [
              "<Figure size 1000x600 with 1 Axes>"
            ],
            "image/png": "[encoded data removed]"
          },
          "metadata": {}
        }
      ]
    }
  ]
}