{
  "nbformat": 4,
  "nbformat_minor": 0,
  "metadata": {
    "colab": {
      "provenance": [],
      "mount_file_id": "1H2j9IEqutCBS29a7uwd8_kZrKLDGKef3",
      "authorship_tag": "ABX9TyOH7OTRlGfnXI950AO/XHAY"
    },
    "kernelspec": {
      "name": "python3",
      "display_name": "Python 3"
    },
    "language_info": {
      "name": "python"
    }
  },
  "cells": [
    {
      "cell_type": "markdown",
      "source": [
        "##Video Concatenation, Audio Extraction, and Cropping: A Moviepy Editing Workflow"
      ],
      "metadata": {
        "id": "EzVUDD6ZNzMA"
      }
    },
    {
      "cell_type": "markdown",
      "source": [
        "###Read Me"
      ],
      "metadata": {
        "id": "IFECv9hJNkEP"
      }
    },
    {
      "cell_type": "markdown",
      "source": [
        "The code performs the following tasks: it concatenates multiple video clips into a single video, extracts and concatenates the audio from the video clips, sets the audio to the concatenated video, saves the final concatenated video with audio to a file, and finally crops a specific portion of the video and overwrites the previously saved video with the cropped version.\n",
        "\n",
        "Installation and Imports: The code starts by installing the moviepy library using pip and importing necessary modules such as VideoFileClip, concatenate_videoclips, concatenate_audioclips, and drive from google.colab.\n",
        "\n",
        "Mounting Google Drive: The line drive.mount(\"/content/drive\") mounts the Google Drive in the Colab notebook. This allows access to files stored in your Google Drive.\n",
        "\n",
        "Concatenating Video Clips: The code creates a list of video file paths video_files that need to be concatenated. It then uses a list comprehension to load each video file as a VideoFileClip object and stores them in the video_clips list. The concatenate_videoclips function is then used to concatenate the video clips into a single final_clip.\n",
        "\n",
        "Extracting and Concatenating Audio: The code extracts the audio from each video clip in video_clips using a list comprehension and stores them in the audio_clips list. The concatenate_audioclips function is then used to concatenate the audio clips into a single final_audio clip.\n",
        "\n",
        "Setting Audio to Final Clip: The audio of final_clip is set to the final_audio using the set_audio method. This ensures that the concatenated video has the concatenated audio.\n",
        "\n",
        "Writing Final Concatenated Video with Audio: The final_clip with the concatenated video and audio is written to the specified output file path using the write_videofile function. The video codec libx264 and audio codec aac are used for encoding.\n",
        "\n",
        "Cropping the Video: After the final concatenated video is created, the code loads it as a video_clip. Then, the code specifies the start time and end time (in seconds) to define the portion of the video to be cropped. The subclip method is used to create a new cropped_clip containing the specified portion of the video.\n",
        "\n",
        "Writing Cropped Video: The cropped_clip is written to the same output file path specified earlier, overwriting the previously saved final concatenated video. This ensures that the final output is a cropped version of the concatenated video."
      ],
      "metadata": {
        "id": "ZwmeDJieNbsJ"
      }
    },
    {
      "cell_type": "markdown",
      "source": [
        "###Libraries and Settings"
      ],
      "metadata": {
        "id": "4GHRawaLM6vX"
      }
    },
    {
      "cell_type": "code",
      "source": [
        "!pip install moviepy\n",
        "from moviepy.editor import VideoFileClip, concatenate_videoclips, concatenate_audioclips\n",
        "from google.colab import drive\n",
        "drive.mount(\"/content/drive\")"
      ],
      "metadata": {
        "id": "-nurlEybLC_p"
      },
      "execution_count": null,
      "outputs": []
    },
    {
      "cell_type": "markdown",
      "source": [
        "###Concatenate the videos"
      ],
      "metadata": {
        "id": "iN6ZDFWeM-Sx"
      }
    },
    {
      "cell_type": "code",
      "source": [
        "video_files = [\n",
        "    \"/content/drive/MyDrive/Projects/Shupper_Brickle/Project 10 Training/Operator Training/Operator Training P1.VOB\",\n",
        "    \"/content/drive/MyDrive/Projects/Shupper_Brickle/Project 10 Training/Operator Training/Operator Training P2.VOB\"\n",
        "]\n",
        "\n",
        "video_clips = [VideoFileClip(file) for file in video_files]\n",
        "\n",
        "# Extract audio from each video clip\n",
        "audio_clips = [clip.audio for clip in video_clips]\n",
        "\n",
        "# Concatenate the audio clips\n",
        "final_audio = concatenate_audioclips(audio_clips)\n",
        "\n",
        "# Concatenate the video clips\n",
        "final_clip = concatenate_videoclips(video_clips)\n",
        "\n",
        "# Set the audio of the final clip to the concatenated audio\n",
        "final_clip = final_clip.set_audio(final_audio)\n",
        "\n",
        "# Write the final concatenated video with audio\n",
        "output_file = \"/content/drive/MyDrive/Projects/Shupper_Brickle/Project 10 Training/Operator Training/Operator Training Full.mp4\"\n",
        "final_clip.write_videofile(output_file, codec=\"libx264\", audio_codec=\"aac\")\n"
      ],
      "metadata": {
        "id": "ugxJZ5j_MChP"
      },
      "execution_count": null,
      "outputs": []
    },
    {
      "cell_type": "markdown",
      "source": [
        "###Crop the video"
      ],
      "metadata": {
        "id": "RhHcpJMLNC19"
      }
    },
    {
      "cell_type": "code",
      "source": [
        "# Load the video clip\n",
        "video_clip = final_clip\n",
        "\n",
        "# Define the start and end times for cropping (in seconds)\n",
        "start_time = 38\n",
        "end_time = 1476\n",
        "\n",
        "# Crop the video clip based on the specified start and end times\n",
        "cropped_clip = video_clip.subclip(start_time, end_time)\n",
        "\n",
        "# Write the cropped video clip to a new file\n",
        "output_file = \"/content/drive/MyDrive/Projects/Shupper_Brickle/Project 10 Training/Operator Training/Operator Training Full.mp4\"\n",
        "cropped_clip.write_videofile(output_file, codec=\"libx264\", audio_codec=\"aac\")"
      ],
      "metadata": {
        "colab": {
          "base_uri": "https://localhost:8080/"
        },
        "id": "MdI9La00JBay",
        "outputId": "67aefbcb-36a6-44d9-d34d-0bfe595b4899"
      },
      "execution_count": null,
      "outputs": [
        {
          "output_type": "stream",
          "name": "stdout",
          "text": [
            "Moviepy - Building video /content/drive/MyDrive/Projects/Shupper_Brickle/Project 10 Training/Operator Training/Operator Training Full.mp4.\n",
            "MoviePy - Writing audio in Operator Training FullTEMP_MPY_wvf_snd.mp4\n"
          ]
        },
        {
          "output_type": "stream",
          "name": "stderr",
          "text": []
        },
        {
          "output_type": "stream",
          "name": "stdout",
          "text": [
            "MoviePy - Done.\n",
            "Moviepy - Writing video /content/drive/MyDrive/Projects/Shupper_Brickle/Project 10 Training/Operator Training/Operator Training Full.mp4\n",
            "\n"
          ]
        },
        {
          "output_type": "stream",
          "name": "stderr",
          "text": [
            "t:  71%|███████   | 30595/43097 [17:54<08:42, 23.92it/s, now=None]WARNING:py.warnings:/usr/local/lib/python3.10/dist-packages/moviepy/video/io/ffmpeg_reader.py:123: UserWarning: Warning: in file /content/drive/MyDrive/Projects/Shupper_Brickle/Project 10 Training/Operator Training/Operator Training P1.VOB, 1036800 bytes wanted but 0 bytes read,at frame 31733/31735, at time 1058.82/1058.86 sec. Using the last valid frame instead.\n",
            "  warnings.warn(\"Warning: in file %s, \"%(self.filename)+\n",
            "\n"
          ]
        },
        {
          "output_type": "stream",
          "name": "stdout",
          "text": [
            "Moviepy - Done !\n",
            "Moviepy - video ready /content/drive/MyDrive/Projects/Shupper_Brickle/Project 10 Training/Operator Training/Operator Training Full.mp4\n"
          ]
        }
      ]
    }
  ]
}